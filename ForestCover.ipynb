import numpy as np 
import pandas as pd 
#import plotly.graph_objs as go
#from plotly.offline import init_notebook_mode, iplot
#init_notebook_mode(connected=True)
from collections import Counter
import matplotlib.pyplot as plt
%matplotlib inline
import seaborn as sns 
color = sns.color_palette()
#from pandas.tools.plotting import parallel_coordinates
from sklearn.decomposition import PCA
from sklearn import ensemble
from sklearn.ensemble import RandomForestClassifier

train = pd.read_csv("C:/Users/Shashank/Desktop/Forest/train.csv") # store as dataframe objects
test = pd.read_csv("C:/Users/Shashank/Desktop/Forest/test.csv") # store as dataframe objects

train.isnull().sum().sort_values(ascending=False)

y=train['Cover_Type']
test_id=test['Id']
train.drop('Id', axis=1, inplace=True)
test.drop('Id', axis=1, inplace=True)


cols=['Elevation', 'Aspect', 'Slope', 'Horizontal_Distance_To_Hydrology',
       'Vertical_Distance_To_Hydrology', 'Horizontal_Distance_To_Roadways',
       'Hillshade_9am', 'Hillshade_Noon', 'Hillshade_3pm',
       'Horizontal_Distance_To_Fire_Points']
train[cols].hist(figsize=(16,12),bins=40)
plt.show()

sns.FacetGrid(train, hue="Cover_Type", size=10) \
   .map(plt.scatter, "Vertical_Distance_To_Hydrology", "Elevation") \
   .add_legend()
plt.show()

train['E-VH']=train['Elevation']-train['Vertical_Distance_To_Hydrology']
sns.FacetGrid(train, hue="Cover_Type", size=10) \
   .map(plt.scatter, "Vertical_Distance_To_Hydrology", "E-VH") \
   .add_legend()
plt.show()
